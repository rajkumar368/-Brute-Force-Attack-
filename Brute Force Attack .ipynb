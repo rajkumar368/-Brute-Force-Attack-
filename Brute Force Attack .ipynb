{
 "cells": [
  {
   "cell_type": "code",
   "execution_count": 11,
   "metadata": {},
   "outputs": [
    {
     "data": {
      "text/plain": [
       "'bjqhtrj3yt$mfwibfwj$xjhzwnyd&fy2zxk'"
      ]
     },
     "execution_count": 11,
     "metadata": {},
     "output_type": "execute_result"
    }
   ],
   "source": [
    "import random\n",
    "# Program to encrypt plaintext(uppercase) to cipher(lowecase).\n",
    "def encrypt(text,k):\n",
    "    result = \"\"\n",
    "    for i in range(len(text)):\n",
    "        char = text[i]\n",
    "        if (char.isupper()):\n",
    "            temp_num = chr(((ord(char) + k - 65) % 26)+65)\n",
    "            result += temp_num.lower()\n",
    "        elif char == \" \":\n",
    "            hash_list = [\"3\",\"#\",\"$\",\"&\",\"@\",\"2\"]\n",
    "            result+= random.choice(hash_list)\n",
    "        \n",
    "    return result\n",
    "\n",
    "# Takes two args plaintext(uppercase) and key.\n",
    "encrypt(\"WELCOME TO HARDWARE SECURITY AT USF\",5)"
   ]
  },
  {
   "cell_type": "code",
   "execution_count": 36,
   "metadata": {},
   "outputs": [
    {
     "data": {
      "text/plain": [
       "'WELCOME TO HARDWARE SECURITY AT USF'"
      ]
     },
     "execution_count": 36,
     "metadata": {},
     "output_type": "execute_result"
    }
   ],
   "source": [
    "import random\n",
    "# Program to decrypt cipher(lowecase) to plaintext(uppercase).\n",
    "def decrypt(text,k):\n",
    "    result = \"\"\n",
    "    hash_list = [\"3\",\"#\",\"$\",\"&\",\"@\",\"2\"]\n",
    "    for i in range(len(text)):\n",
    "        char = text[i]\n",
    "        if (char.islower()):\n",
    "            result += chr(((ord(char.upper()) - k - 65) % 26)+65)\n",
    "            \n",
    "        elif char in hash_list or char == \" \":\n",
    "            result += \" \"\n",
    "            \n",
    "    return result\n",
    "\n",
    "# Takes two args cipher(lowecase) and key.\n",
    "decrypt(\"bjqhtrj3yt$mfwibfwj$xjhzwnyd&fy2zxk\",5)"
   ]
  },
  {
   "cell_type": "code",
   "execution_count": 38,
   "metadata": {},
   "outputs": [
    {
     "data": {
      "text/plain": [
       "\"Brute Force Attack results are: ['For Cipher def Decrypted Word is: ABC,and the key is: 3.']\""
      ]
     },
     "execution_count": 38,
     "metadata": {},
     "output_type": "execute_result"
    }
   ],
   "source": [
    "\"\"\"\n",
    "program to find out key and message using encrypted cipher.\n",
    "it takes two args cipher_list and predict_enc_list,\n",
    "cipher_list contain all encrypted cipher strings in a list and \n",
    "predict_enc_list contain all guess messages strings in a list\n",
    "\"\"\"\n",
    "\n",
    "def brute_force(cipher_list,predict_enc_list):\n",
    "    result_list = []\n",
    "    for cipher_string in cipher_list:\n",
    "        for key in range(len(cipher_string)+1):\n",
    "            result = decrypt(cipher_string,key)\n",
    "            if result in predict_enc_list:\n",
    "                result_list.append(f\"For Cipher {cipher_string} Decrypted Word is: {result},and the key is: {key}.\")\n",
    "            else:\n",
    "                continue\n",
    "    if len(result_list) > 0:\n",
    "        return f\"Brute Force Attack results are: {result_list}\"\n",
    "    else:\n",
    "        return f\"Oops! No result found. Try again with another predict_enc_list\"\n",
    "\n",
    "    \n",
    "cipher_list = [\"def\",\"ajc\"]  \n",
    "predict_enc_list = [\"ABC\",\"XYZ\"]   \n",
    "brute_force(cipher_list,predict_enc_list)\n",
    "    "
   ]
  }
 ],
 "metadata": {
  "kernelspec": {
   "display_name": "Python 3",
   "language": "python",
   "name": "python3"
  },
  "language_info": {
   "codemirror_mode": {
    "name": "ipython",
    "version": 3
   },
   "file_extension": ".py",
   "mimetype": "text/x-python",
   "name": "python",
   "nbconvert_exporter": "python",
   "pygments_lexer": "ipython3",
   "version": "3.8.5"
  }
 },
 "nbformat": 4,
 "nbformat_minor": 4
}
